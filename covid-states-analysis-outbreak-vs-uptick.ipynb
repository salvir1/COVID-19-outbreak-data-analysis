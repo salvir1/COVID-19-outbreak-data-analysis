{
 "cells": [
  {
   "cell_type": "markdown",
   "metadata": {},
   "source": [
    "## COVID Early Warning System Project Overview\n",
    "\n",
    "This project is an attempt to define a good early warning indicator for COVID outbreaks. States and public health agencies have a difficult job to keep COVID transmission under control. They could benefit from a system that provides them an early and accurate warning of an increase in new COVIC infections in their jurisdiction that has a strong probability of becoming an outbreak. \n",
    "\n",
    "This project grew out of an interest to compare the available data from states that had experienced an outbreak vs. states that hadn't experienced an outbreak. As the analysis progressed it became clear that the common statistical measures of COVID-19 infection spread that are utilized today--total cases, case rates, and positive test rates--are not all equally informative. One is better than the others, yet all of them have their shortcomings. Part of the project explores the shortcomings with the measures that are currently available. \n",
    "\n",
    "Taken together, this analysis helped to inform the idea of an alternative regional COVID-19 early warning system that addresses some of the shortcomings of the currently available tools and could provide an early and accurate warning of an increase in new COVID infections, which could ultimately allow state governments and public health agencies to react sooner and keep an uptick from turning into an outbreak. This system is described in more detail [here](https://github.com/salvir1/covid-early-warning-system). \n",
    "\n",
    "## Goals\n",
    "\n",
    "The high level goals of this project are:\n",
    "- To characterize the difference at the regional level between an uptick and an outbreak in COVID case rates\n",
    "- To develop statistics that could become the foundation of a COVID-19 earling warning system (described [here](https://github.com/salvir1/covid-early-warning-system))\n",
    "- To work with various EDA and data visualization tools and techniques\n",
    "\n",
    "## Tools and techniques used in this project\n",
    "\n",
    "**Tools**\n",
    "- Python, Jupyter Lab, SciKitLearn, Pandas, Numpy\n",
    "\n",
    "**Visualization**\n",
    "- Plotly, Matplotlib\n",
    "\n",
    "**Techniques**\n",
    "- Spatial mapping, simple moving average, simulation"
   ]
  },
  {
   "cell_type": "markdown",
   "metadata": {},
   "source": [
    "### Raw data sourced from COVID Tracking Project\n",
    "\n",
    "- Terms of use: The COVID Tracking Project at The Atlantic’s data and website content is published under a Creative Commons CC BY 4.0 license, which requires users to attribute the source and license type (CC BY 4.0) when sharing our data or website content.\n",
    "- Citation: [the COVID Tracking Project](https://www.covidtrackingproject.com), Creative Commons CC BY 4.0 license"
   ]
  },
  {
   "cell_type": "markdown",
   "metadata": {},
   "source": [
    "### Comparing trends at the state level\n",
    "\n",
    "The state groupings help to sort the state trends in a meaningful way. One good way to see this is to look at the death rate trendline at the state level for just 25 states. The chart below of daily COVID death rates by state over time is a confusion of squiggly lines, although one can start to see patterns if one looks long enough. \n",
    "\n",
    "<img align=\"center\" src=\"img/COVID-deaths-by-state-large-group.png\" width='1000' height='auto' ></img>\n",
    "\n",
    "The state level trendlines become more understandable when states are presented in the same groupings as before. The following charts display the same COVID statistics as above (except for total cases which isn't that helpful of a metric), but now at the state level.\n",
    "\n",
    "<img align=\"center\" src=\"img/COVID-deaths-by-state.png\" width='1000' height='auto' ></img>\n",
    "\n",
    "<img align=\"center\" src=\"img/COVID-cases-by-state.png\" width='1000' height='auto' ></img>\n",
    "\n",
    "<img align=\"center\" src=\"img/COVID-positive-test-rate-by-state.png\" width='1000' height='auto' ></img>\n",
    "\n",
    "While the groupings help to make sense of the state level data, there's one obvious problem with most of the trendlines no matter which grouping they fall into. They're all very noisy. If one is looking at these signals to determine if there's been an underlying and important shift in the rate of new COVID infections, the variability is going to cloud that decision and cause delay. This will be discussed more in the next section.\n",
    "\n",
    "Another way to display changes over time at the state level is with an animation. Animations were constructed to demonstrate the dynamic ebb and flow of COVID-19 over time by state. These three animations show the geographic progression of the outbreaks over time. (Due to the limitations of the Github repo to run html in markdown language, you may need to copy the html files to a local folder and then open them to see the animation. Links to the files are here. They can be found in the img directory of this repo.)\n",
    "\n",
    "[death rate animation](https://github.com/salvir1/outbreak-vs-uptick/blob/main/img/death-rate-map.html)\n",
    "\n",
    "[case rate animation](https://github.com/salvir1/outbreak-vs-uptick/blob/main/img/case-rate-map.html)\n",
    "\n",
    "[positive test rate animation](https://github.com/salvir1/outbreak-vs-uptick/blob/main/img/positive-rate-map.html)\n"
   ]
  },
  {
   "cell_type": "code",
   "execution_count": null,
   "metadata": {},
   "outputs": [],
   "source": [
    "import pandas as pd\n",
    "import numpy as np\n",
    "import datetime\n",
    "from datetime import timedelta\n",
    "import matplotlib.pyplot as plt\n",
    "import plotly.express as px\n",
    "import warnings\n",
    "warnings.filterwarnings('ignore')"
   ]
  },
  {
   "cell_type": "code",
   "execution_count": null,
   "metadata": {},
   "outputs": [],
   "source": [
    "# Load in the COVID Tracking Project dataset by date and by state for US\n",
    "covidtracking = pd.read_csv(\"https://api.covidtracking.com/v1/states/daily.csv\")"
   ]
  },
  {
   "cell_type": "code",
   "execution_count": null,
   "metadata": {},
   "outputs": [],
   "source": [
    "covidtracking.columns"
   ]
  },
  {
   "cell_type": "code",
   "execution_count": null,
   "metadata": {},
   "outputs": [],
   "source": [
    "df_state = covidtracking[['date', 'state', 'fips','positiveIncrease', 'deathIncrease', 'negativeIncrease']]\n",
    "df_state.info()"
   ]
  },
  {
   "cell_type": "code",
   "execution_count": null,
   "metadata": {},
   "outputs": [],
   "source": [
    "df_state['date'] = pd.to_datetime(df_state['date'], format='%Y%m%d')\n",
    "df_state = df_state[df_state['date'] >= '2020-03-10']"
   ]
  },
  {
   "cell_type": "code",
   "execution_count": null,
   "metadata": {},
   "outputs": [],
   "source": [
    "df_state.state.unique()"
   ]
  },
  {
   "cell_type": "code",
   "execution_count": null,
   "metadata": {},
   "outputs": [],
   "source": [
    "ls"
   ]
  },
  {
   "cell_type": "code",
   "execution_count": null,
   "metadata": {},
   "outputs": [],
   "source": [
    "st_population = pd.read_csv('../data/state_abbrev.csv', thousands=',') # Load in state population counts and merge with ctp data\n",
    "df_state = df_state.merge(st_population, how='inner' ,left_on='state', right_on='Code')\n",
    "df_state.isna().sum() # No missing values!\n",
    "df_state['CVD_group'] = df_state['CVD_group'].apply(lambda x: 'No outbreak' if x == 0 else x)\n",
    "df_state['CVD_group'] = df_state['CVD_group'].apply(lambda x: 'Spring outbreak' if x == 1 else x)\n",
    "df_state['CVD_group'] = df_state['CVD_group'].apply(lambda x: 'Summer outbreak' if x == 2 else x)\n",
    "df_state['CVD_group'] = df_state['CVD_group'].apply(lambda x: 'Fall outbreak' if x == 3 else x)"
   ]
  },
  {
   "cell_type": "markdown",
   "metadata": {},
   "source": [
    "### State-level case and death rate animations by week"
   ]
  },
  {
   "cell_type": "code",
   "execution_count": null,
   "metadata": {},
   "outputs": [],
   "source": [
    "# Prepare data table for the animation of deaths per 100,000 and cases per 100,000 by state.\n",
    "# Group data by week for the animation, but convert it into a daily statistic for consistency with other charts"
   ]
  },
  {
   "cell_type": "code",
   "execution_count": null,
   "metadata": {},
   "outputs": [],
   "source": [
    "# Close out on a complete week (ending Sunday) when reporting weekly statistics.\n",
    "today = datetime.date.today()\n",
    "last_monday = pd.to_datetime(today + datetime.timedelta(days=-today.weekday(), weeks=0))\n",
    "df_state = df_state[df_state['date'] < last_monday]\n",
    "df_state = df_state.sort_values('date', ascending=True)"
   ]
  },
  {
   "cell_type": "code",
   "execution_count": null,
   "metadata": {},
   "outputs": [],
   "source": [
    "# Start by grouping by state and week. (Summing over the week speeds up the animation.)\n",
    "df_state['week']=df_state['date'].dt.week\n",
    "df_state_by_week = df_state.groupby(['week','state','Population']).agg(\n",
    "                                    deaths = ('deathIncrease', 'sum'),\n",
    "                                    cases = ('positiveIncrease','sum'),\n",
    "                                    negatives = ('negativeIncrease','sum'),\n",
    "                                    Date = ('date', 'max')).reset_index()"
   ]
  },
  {
   "cell_type": "code",
   "execution_count": null,
   "metadata": {},
   "outputs": [],
   "source": [
    "# Slight smoothing of death rate (2 weeks or 14 days total) to match the smoothing used in the groupings charts\n",
    "death_SMA = []\n",
    "for chart_state in df_state_by_week['state'].unique():\n",
    "    state = df_state_by_week[df_state_by_week['state']== chart_state]\n",
    "    death_SMA.append(state.iloc[:,3].rolling(window=2).mean())\n",
    "df_state_by_week['death_SMA']= pd.concat(death_SMA)"
   ]
  },
  {
   "cell_type": "code",
   "execution_count": null,
   "metadata": {},
   "outputs": [],
   "source": [
    "# Calculate daily deaths per 100000.\n",
    "df_state_by_week['deaths_per_100000'] = df_state_by_week['death_SMA'] / df_state_by_week['Population'] * 100000 / 7\n",
    "df_state_by_week['cases_per_100000'] = df_state_by_week['cases'] / df_state_by_week['Population'] * 100000 / 7\n",
    "df_state_by_week['positive_test_rate'] = df_state_by_week['cases'] / (df_state_by_week['cases'] + df_state_by_week['negatives'])"
   ]
  },
  {
   "cell_type": "code",
   "execution_count": null,
   "metadata": {},
   "outputs": [],
   "source": [
    "df_state_by_week['timestamp'] = df_state_by_week['Date'].apply(lambda x: x.date()).apply(str) # convert timestamp to a string \n",
    "df_state_by_week = df_state_by_week.sort_values('timestamp', ascending=True)"
   ]
  },
  {
   "cell_type": "code",
   "execution_count": null,
   "metadata": {},
   "outputs": [],
   "source": [
    "fig = px.choropleth(df_state_by_week,                   # Input Dataframe\n",
    "                     locations=\"state\",                 # state abbrev column\n",
    "                     locationmode=\"USA-states\",         # use plotly-supplied state geometries\n",
    "                     color=\"cases_per_100000\",          # feature column\n",
    "                     hover_name=\"state\",                # hover name\n",
    "                     animation_frame=\"timestamp\",       # date column\n",
    "                     scope=\"usa\",\n",
    "                     color_continuous_scale = 'Viridis_r',  \n",
    "                     range_color=[0,300/7],             # select range of dataset\n",
    "                     labels={'cases_per_100000':'Cases per 100,000'},\n",
    "                     title='Daily COVID cases per 100,000 residents'     \n",
    "                     )                 \n",
    "fig.write_html(\"img/case-rate-map.html\", auto_open=True)                      "
   ]
  },
  {
   "cell_type": "code",
   "execution_count": null,
   "metadata": {},
   "outputs": [],
   "source": [
    "fig = px.choropleth(df_state_by_week,                   # Input Dataframe\n",
    "                     locations=\"state\",                 # state abbrev column\n",
    "                     locationmode=\"USA-states\",         # use plotly-supplied state geometries\n",
    "                     color=\"positive_test_rate\",        # feature column\n",
    "                     hover_name=\"state\",                # hover name\n",
    "                     animation_frame=\"timestamp\",       # date column\n",
    "                     scope=\"usa\",\n",
    "                     color_continuous_scale = 'Viridis_r',  \n",
    "                     range_color=[0,0.4],             # select range of dataset\n",
    "                     labels={'positive_test_rate':'Positive test rate'},\n",
    "                     title='COVID positive test rate'     \n",
    "                     )                 \n",
    "fig.write_html(\"img/positive-rate-map.html\", auto_open=True)                      "
   ]
  },
  {
   "cell_type": "code",
   "execution_count": null,
   "metadata": {},
   "outputs": [],
   "source": [
    "fig = px.choropleth(df_state_by_week,                   # Input Dataframe\n",
    "                     locations=\"state\",                 # state abbrev column\n",
    "                     locationmode=\"USA-states\",         # use plotly-supplied state geometries\n",
    "                     color=\"deaths_per_100000\",         # feature column\n",
    "                     hover_name=\"state\",                # hover name\n",
    "                     animation_frame=\"timestamp\",       # date column\n",
    "                     scope=\"usa\",\n",
    "                     color_continuous_scale = 'bluered',  \n",
    "                     range_color=[0,5.5/7],             # select range of dataset\n",
    "                     labels={'deaths_per_100000':'Deaths per 100,000'},\n",
    "                     title='Daily COVID deaths per 100,000 residents'     \n",
    "                     )        \n",
    "fig.write_html(\"img/death-rate-map.html\", auto_open=True)                      "
   ]
  },
  {
   "cell_type": "markdown",
   "metadata": {},
   "source": [
    "### State level time series"
   ]
  },
  {
   "cell_type": "code",
   "execution_count": null,
   "metadata": {},
   "outputs": [],
   "source": [
    "# Calculate simple moving averages. \n",
    "\n",
    "case_SMA = []\n",
    "death_SMA = []\n",
    "negatives_SMA = []\n",
    "\n",
    "for chart_state in df_state['state'].unique():\n",
    "    state = df_state[df_state['state']== chart_state]\n",
    "    df_state_by_week.sort_values('timestamp', ascending=True)\n",
    "    case_SMA.append(state.iloc[:,3].rolling(window=14).mean())\n",
    "    death_SMA.append(state.iloc[:,4].rolling(window=14).mean())\n",
    "    negatives_SMA.append(state.iloc[:,5].rolling(window=14).mean())\n",
    "df_state['case_SMA']= pd.concat(case_SMA)\n",
    "df_state['death_SMA']= pd.concat(death_SMA)\n",
    "df_state['negatives_SMA']= pd.concat(negatives_SMA)\n",
    "df_state['positive_test_rate'] = df_state['case_SMA'] / (df_state['case_SMA'] + df_state['negatives_SMA'])\n",
    "df_state['case_SMA'] = df_state['case_SMA'] / df_state['Population'] * 100000 # normalize by population\n",
    "df_state['death_SMA'] = df_state['death_SMA'] / df_state['Population'] * 100000 # normalize by population"
   ]
  },
  {
   "cell_type": "code",
   "execution_count": null,
   "metadata": {},
   "outputs": [],
   "source": [
    "# Calculate the case_SMA change over 5, 10, 15 days to determine if rate of change correlates with groupings\n",
    "case_SMA_5_day_change = []\n",
    "case_SMA_10_day_change = []\n",
    "case_SMA_15_day_change = []\n",
    "for chart_state in df_state['state'].unique():\n",
    "    state = df_state[df_state['state']== chart_state]\n",
    "    case_SMA_5_day_change.append(state['case_SMA'] - state['case_SMA'].shift(5))\n",
    "    case_SMA_10_day_change.append(state['case_SMA'] - state['case_SMA'].shift(10))\n",
    "    case_SMA_15_day_change.append(state['case_SMA'] - state['case_SMA'].shift(15))\n",
    "df_state['case_SMA_5_day_change']= pd.concat(case_SMA_5_day_change)\n",
    "df_state['case_SMA_10_day_change']= pd.concat(case_SMA_10_day_change)\n",
    "df_state['case_SMA_15_day_change']= pd.concat(case_SMA_15_day_change)\n"
   ]
  },
  {
   "cell_type": "code",
   "execution_count": null,
   "metadata": {},
   "outputs": [],
   "source": [
    "first, last = (0, 25)\n",
    "\n",
    "# Death rate by state over time--ungrouped\n",
    "fig, ax = plt.subplots(figsize = (15,7))\n",
    "    \n",
    "for chart_state in df_state['state'].unique()[first:last]:\n",
    "    state_df = df_state[df_state['state']== chart_state]\n",
    "#     state_df['case_SMA'] = state_df.iloc[:,3].rolling(window=14).mean()\n",
    "#     state_df['death_SMA'] = state_df.iloc[:,4].rolling(window=14).mean()\n",
    "#     temp_state_df = state_df[['date', 'death_SMA']]\n",
    "#     temp_state_df['date'] = temp_state_df['date'] - timedelta(days=14)\n",
    "#     state_df = state_df.merge(temp_state_df, on='date')\n",
    "    ax.plot(state_df['date'], state_df['death_SMA'], label = chart_state)\n",
    "    ax.set_xlim([datetime.date(2020, 4, 1), datetime.date(2020, 10, 31)])\n",
    "    ax.set_ylim(0, 1)\n",
    "    ax.set_title(f'COVID death rate per 100,000 for 25 states')\n",
    "    ax.legend()\n",
    "plt.savefig('img/COVID-deaths-by-state-large-group.png')"
   ]
  },
  {
   "cell_type": "code",
   "execution_count": null,
   "metadata": {},
   "outputs": [],
   "source": [
    "# Deaths per 100,000 by state over time\n",
    "fig, ax = plt.subplots(2,2, figsize = (18,14))\n",
    "plt.figtext(0.9, 0.05, 'Data source: The COVID Tracking Project, Creative Commons CC BY 4.0 license', horizontalalignment='right')\n",
    "plt.suptitle(f'Daily COVID deaths per 100,000 by outbreak groupings (14-day simple moving average)', size=15, y=0.95)\n",
    "\n",
    "i=0\n",
    "for group in df_state['CVD_group'].unique():\n",
    "    temp_df = df_state[df_state['CVD_group']==group]\n",
    "    for chart_state in temp_df['state'].unique():\n",
    "        state_df = temp_df[temp_df['state']== chart_state]\n",
    "        ax[i//2][i%2].plot(state_df['date'], state_df['death_SMA'], label = chart_state)\n",
    "    ax[i//2][i%2].axhline(y=0.8, ls= '--', lw=1, color = 'gray', alpha=0.25)\n",
    "    ax[i//2][i%2].axhline(y=0.5, ls= '--', lw=1, color = 'gray')\n",
    "    ax[i//2][i%2].set_xlim([datetime.date(2020, 4, 1), datetime.date.today()])\n",
    "    ax[i//2][i%2].set_ylim([0,1.2])\n",
    "    ax[i//2][i%2].set_title(f'{group} group')\n",
    "    ax[i//2][i%2].legend()\n",
    "    i += 1\n",
    "plt.savefig('img/COVID-deaths-by-state.png')"
   ]
  },
  {
   "cell_type": "code",
   "execution_count": null,
   "metadata": {},
   "outputs": [],
   "source": [
    "# Cases per 100,000 by state over time\n",
    "fig, ax = plt.subplots(2,2, figsize = (18,14))\n",
    "plt.figtext(0.9, 0.05, 'Data source: The COVID Tracking Project, Creative Commons CC BY 4.0 license', horizontalalignment='right')\n",
    "plt.suptitle(f'Daily COVID cases per 100,000 by outbreak groupings (14-day simple moving average)', size=15, y=0.95)\n",
    "\n",
    "i=0\n",
    "for group in df_state['CVD_group'].unique():\n",
    "    temp_df = df_state[df_state['CVD_group']==group]\n",
    "    for chart_state in temp_df['state'].unique():\n",
    "        state_df = temp_df[temp_df['state']== chart_state]\n",
    "        ax[i//2][i%2].plot(state_df['date'], state_df['case_SMA'], label = chart_state)\n",
    "    ax[i//2][i%2].axhline(y=25, ls= '--', lw=1, color = 'gray')\n",
    "    ax[i//2][i%2].set_xlim([datetime.date(2020, 4, 1), datetime.date.today()])\n",
    "    ax[i//2][i%2].set_ylim([0,50])\n",
    "    ax[i//2][i%2].set_title(f'{group} group')\n",
    "    ax[i//2][i%2].legend()\n",
    "    i += 1\n",
    "plt.savefig('img/COVID-cases-by-state.png')"
   ]
  },
  {
   "cell_type": "code",
   "execution_count": null,
   "metadata": {},
   "outputs": [],
   "source": [
    "# Positive test rate by state over time\n",
    "fig, ax = plt.subplots(2,2, figsize = (18,14))\n",
    "plt.figtext(0.9, 0.05, 'Data source: The COVID Tracking Project, Creative Commons CC BY 4.0 license', horizontalalignment='right')\n",
    "plt.suptitle(f'COVID positive test rate by outbreak groupings (14-day simple moving average)', size=15, y=0.95)\n",
    "\n",
    "i=0\n",
    "for group in df_state['CVD_group'].unique():\n",
    "    temp_df = df_state[df_state['CVD_group']==group]\n",
    "    for chart_state in temp_df['state'].unique():\n",
    "        state_df = temp_df[temp_df['state']== chart_state]\n",
    "        ax[i//2][i%2].plot(state_df['date'], state_df['positive_test_rate'], label = chart_state)\n",
    "    ax[i//2][i%2].axhline(y=20, ls= '--', lw=1, color = 'gray')\n",
    "    ax[i//2][i%2].set_xlim([datetime.date(2020, 4, 1), datetime.date.today()])\n",
    "    ax[i//2][i%2].set_ylim([0,0.4])\n",
    "    ax[i//2][i%2].set_title(f'{group} group')\n",
    "    ax[i//2][i%2].legend()\n",
    "    i += 1\n",
    "plt.savefig('img/COVID-positive-test-rate-by-state.png')"
   ]
  },
  {
   "cell_type": "code",
   "execution_count": null,
   "metadata": {},
   "outputs": [],
   "source": [
    "# Case rate change by state over time\n",
    "fig, ax = plt.subplots(2,2, figsize = (18,14))\n",
    "plt.figtext(0.9, 0.05, 'Data source: The COVID Tracking Project, Creative Commons CC BY 4.0 license', horizontalalignment='right')\n",
    "plt.suptitle(f'Change in daily COVID cases per 100,000 from 10 days prior, by outbreak groupings (14-day simple moving average)', size=15, y=0.95)\n",
    "\n",
    "i=0\n",
    "for group in df_state['CVD_group'].unique():\n",
    "    temp_df = df_state[df_state['CVD_group']==group]\n",
    "    for chart_state in temp_df['state'].unique():\n",
    "        state_df = temp_df[temp_df['state']== chart_state]\n",
    "        ax[i//2][i%2].plot(state_df['date'], state_df['case_SMA_10_day_change'], label = chart_state)\n",
    "#     ax[i//2][i%2].axhline(y=20, ls= '--', lw=1, color = 'gray')\n",
    "    ax[i//2][i%2].set_xlim([datetime.date(2020, 5, 1), datetime.date.today()])\n",
    "    ax[i//2][i%2].set_ylim([-20,20])\n",
    "    ax[i//2][i%2].set_title(f'{group} group')\n",
    "    ax[i//2][i%2].legend()\n",
    "    i += 1"
   ]
  },
  {
   "cell_type": "markdown",
   "metadata": {},
   "source": [
    "### Misc charts"
   ]
  },
  {
   "cell_type": "code",
   "execution_count": null,
   "metadata": {},
   "outputs": [],
   "source": [
    "chart_state = 'WA'\n",
    "state_df = df_state[df_state['state']== chart_state]\n",
    "state_df['case_SMA'] = state_df.iloc[:,3].rolling(window=14).mean()\n",
    "state_df['death_SMA'] = state_df.iloc[:,4].rolling(window=14).mean()\n",
    "temp_state_df = state_df[['date', 'death_SMA']]\n",
    "temp_state_df['date'] = temp_state_df['date'] - timedelta(days=21)\n",
    "state_df = state_df.merge(temp_state_df, on='date')"
   ]
  },
  {
   "cell_type": "code",
   "execution_count": null,
   "metadata": {},
   "outputs": [],
   "source": [
    "fig, ax = plt.subplots(figsize = (15,5))\n",
    "ax.plot(state_df['date'], state_df['death_SMA_y'] / state_df['case_SMA'], label = 'case fatality ratio', color = 'purple', lw=3)\n",
    "ax.set_xlim([datetime.date(2020, 4, 1), datetime.date(2020, 10, 15)])\n",
    "ax.set_ylim(0, 0.1)\n",
    "ax.set_title(f'{chart_state} COVID case fatality ratio (deaths were time-shifted to synchronize with initial diagnosis)')\n",
    "ax.legend()"
   ]
  },
  {
   "cell_type": "code",
   "execution_count": null,
   "metadata": {},
   "outputs": [],
   "source": [
    "fig, ax = plt.subplots(figsize = (15,5))\n",
    "ax.plot(state_df['date'], state_df['death_SMA_x'], label = 'deaths', lw= .5)\n",
    "ax.plot(state_df['date'], state_df['death_SMA_y'], label = 'deaths shifted', color = 'gray', lw=3)\n",
    "ax.plot(state_df['date'], state_df['case_SMA'] / 70, label = 'cases / 70', color = 'orange', lw=3)\n",
    "ax.set_xlim([datetime.date(2020, 4, 1), datetime.date(2020, 10, 15)])\n",
    "ax.set_title(f'{chart_state} COVID cases and deaths (deaths time-shifted 21 days to synchronize with cases)')\n",
    "ax.legend()"
   ]
  },
  {
   "cell_type": "code",
   "execution_count": null,
   "metadata": {},
   "outputs": [],
   "source": [
    "# Case fatality ratio by state over time\n",
    "fig, ax = plt.subplots(figsize = (15,7))\n",
    "    \n",
    "for chart_state in df_state['state'].unique()[first:last]:\n",
    "    state_df = df_state[df_state['state']== chart_state]\n",
    "    state_df['case_SMA'] = state_df.iloc[:,3].rolling(window=7).mean()\n",
    "    state_df['death_SMA'] = state_df.iloc[:,4].rolling(window=7).mean()\n",
    "    temp_state_df = state_df[['date', 'death_SMA']]\n",
    "    temp_state_df['date'] = temp_state_df['date'] - timedelta(days=14)\n",
    "    state_df = state_df.merge(temp_state_df, on='date')\n",
    "    ax.plot(state_df['date'], state_df['death_SMA_y'] / state_df['case_SMA'], label = chart_state)\n",
    "    ax.set_xlim([datetime.date(2020, 4, 1), datetime.date(2020, 10, 31)])\n",
    "    ax.set_ylim(0, 0.1)\n",
    "    ax.set_title(f'COVID case fatality ratio (deaths were time-shifted to synchronize with initial diagnosis)')\n",
    "    ax.legend()"
   ]
  },
  {
   "cell_type": "markdown",
   "metadata": {},
   "source": [
    "#### Issues with using positive test rate as a predictor\n",
    "\n",
    "- Very noisy signal--Seattle Times reports it using a 28 day moving average (as compared to 14 days for cases and deaths)\n",
    "- Why? \n",
    "- Test sites might have inherent differences in the types of people being tested. Clinics may be doing pre-procedural testing to confirm patients don't have COVID. Positive test rates from these sites will approximate disease prevalence among asymptomatic people, which is a very low number. Many of these clinics perform these tests only a few days a week.\n",
    "- Locations run by public health agencies may be testing mostly symptomatic people on some of the days when they're open. Positive test rates from these sites on these days may exceed 25% or more.\n",
    "- At different days for these same public health agency locations, they may test a high percentage of asymptomatic students from a school or employees from a company, thus reducing the positive test rate significantly.\n",
    "- Different types of test methods have different false positive/false negative rates. If the balance of tests shifts (which is what we are seeing right now with more antigen detection rapid tests), this is going to result in differences in positive test rates.\n",
    "- The number of tests from these different locations from different days will vary dramatically. Results from these tests get pooled together for reporting purposes, thus causing the positive test rate number to fluctuate for reasons that have nothing to do with changes in the actual infection rate."
   ]
  },
  {
   "cell_type": "code",
   "execution_count": null,
   "metadata": {},
   "outputs": [],
   "source": []
  },
  {
   "cell_type": "code",
   "execution_count": null,
   "metadata": {},
   "outputs": [],
   "source": []
  }
 ],
 "metadata": {
  "kernelspec": {
   "display_name": "Python 3",
   "language": "python",
   "name": "python3"
  },
  "language_info": {
   "codemirror_mode": {
    "name": "ipython",
    "version": 3
   },
   "file_extension": ".py",
   "mimetype": "text/x-python",
   "name": "python",
   "nbconvert_exporter": "python",
   "pygments_lexer": "ipython3",
   "version": "3.7.7"
  }
 },
 "nbformat": 4,
 "nbformat_minor": 4
}
